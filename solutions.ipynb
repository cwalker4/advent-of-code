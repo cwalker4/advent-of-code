{
 "cells": [
  {
   "cell_type": "markdown",
   "metadata": {},
   "source": [
    "# Day 1"
   ]
  },
  {
   "cell_type": "code",
   "execution_count": 46,
   "metadata": {},
   "outputs": [],
   "source": [
    "with open('day1/input.txt', 'r') as f:\n",
    "    arr = f.read().splitlines()"
   ]
  },
  {
   "cell_type": "code",
   "execution_count": 63,
   "metadata": {},
   "outputs": [],
   "source": [
    "arr = [int(x) for x in arr]\n",
    "\n",
    "def two_sum(arr, x):\n",
    "    arr.sort()\n",
    "    l = 0\n",
    "    h = len(arr) - 1\n",
    "    while l < h:\n",
    "        if arr[l] + arr[h] == x:\n",
    "            return arr[l] * arr[h]\n",
    "        elif arr[l] + arr[h] < x:\n",
    "            l += 1\n",
    "        else:\n",
    "            h -= 1\n",
    "    return -1\n"
   ]
  },
  {
   "cell_type": "code",
   "execution_count": 65,
   "metadata": {},
   "outputs": [],
   "source": [
    "def three_sum(arr, x):\n",
    "    arr.sort()\n",
    "    l = 0\n",
    "    h = len(arr) - 1\n",
    "    for y in arr:\n",
    "        tmp = two_sum(arr, x - y)\n",
    "        if tmp != -1:\n",
    "            return tmp * y"
   ]
  },
  {
   "cell_type": "code",
   "execution_count": 67,
   "metadata": {},
   "outputs": [
    {
     "data": {
      "text/plain": [
       "960075"
      ]
     },
     "execution_count": 67,
     "metadata": {},
     "output_type": "execute_result"
    }
   ],
   "source": [
    "two_sum(arr, 2020)"
   ]
  },
  {
   "cell_type": "code",
   "execution_count": 68,
   "metadata": {},
   "outputs": [
    {
     "data": {
      "text/plain": [
       "212900130"
      ]
     },
     "execution_count": 68,
     "metadata": {},
     "output_type": "execute_result"
    }
   ],
   "source": [
    "three_sum(arr, 2020)"
   ]
  }
 ],
 "metadata": {
  "kernelspec": {
   "display_name": "Python 3",
   "language": "python",
   "name": "python3"
  },
  "language_info": {
   "codemirror_mode": {
    "name": "ipython",
    "version": 3
   },
   "file_extension": ".py",
   "mimetype": "text/x-python",
   "name": "python",
   "nbconvert_exporter": "python",
   "pygments_lexer": "ipython3",
   "version": "3.8.5"
  }
 },
 "nbformat": 4,
 "nbformat_minor": 4
}
