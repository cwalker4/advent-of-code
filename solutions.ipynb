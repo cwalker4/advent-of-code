{
 "cells": [
  {
   "cell_type": "markdown",
   "metadata": {},
   "source": [
    "# Day 1"
   ]
  },
  {
   "cell_type": "code",
   "execution_count": 46,
   "metadata": {},
   "outputs": [],
   "source": [
    "with open('day1/input.txt', 'r') as f:\n",
    "    arr = f.read().splitlines()"
   ]
  },
  {
   "cell_type": "code",
   "execution_count": 63,
   "metadata": {},
   "outputs": [],
   "source": [
    "arr = [int(x) for x in arr]\n",
    "\n",
    "def two_sum(arr, x):\n",
    "    arr.sort()\n",
    "    l = 0\n",
    "    h = len(arr) - 1\n",
    "    while l < h:\n",
    "        if arr[l] + arr[h] == x:\n",
    "            return arr[l] * arr[h]\n",
    "        elif arr[l] + arr[h] < x:\n",
    "            l += 1\n",
    "        else:\n",
    "            h -= 1\n",
    "    return -1\n"
   ]
  },
  {
   "cell_type": "code",
   "execution_count": 65,
   "metadata": {},
   "outputs": [],
   "source": [
    "def three_sum(arr, x):\n",
    "    arr.sort()\n",
    "    l = 0\n",
    "    h = len(arr) - 1\n",
    "    for y in arr:\n",
    "        tmp = two_sum(arr, x - y)\n",
    "        if tmp != -1:\n",
    "            return tmp * y"
   ]
  },
  {
   "cell_type": "code",
   "execution_count": 67,
   "metadata": {},
   "outputs": [
    {
     "data": {
      "text/plain": [
       "960075"
      ]
     },
     "execution_count": 67,
     "metadata": {},
     "output_type": "execute_result"
    }
   ],
   "source": [
    "two_sum(arr, 2020)"
   ]
  },
  {
   "cell_type": "code",
   "execution_count": 68,
   "metadata": {},
   "outputs": [
    {
     "data": {
      "text/plain": [
       "212900130"
      ]
     },
     "execution_count": 68,
     "metadata": {},
     "output_type": "execute_result"
    }
   ],
   "source": [
    "three_sum(arr, 2020)"
   ]
  },
  {
   "cell_type": "markdown",
   "metadata": {},
   "source": [
    "# Day 2"
   ]
  },
  {
   "cell_type": "code",
   "execution_count": 22,
   "metadata": {},
   "outputs": [
    {
     "name": "stdout",
     "output_type": "stream",
     "text": [
      "There are 625 correct passwords\n"
     ]
    }
   ],
   "source": [
    "import re\n",
    "\n",
    "# part 1\n",
    "n = 0\n",
    "with open('day2/input.txt', 'r') as f:\n",
    "    for line in f:\n",
    "        l, h, letter, pwd = re.split('[^A-Za-z0-9]+', line)[:-1]\n",
    "        l, h = int(l), int(h)\n",
    "        \n",
    "        if len(re.findall(letter, pwd)) in range(l, h + 1):\n",
    "            n += 1\n",
    "            \n",
    "print(f\"For Part 1 there are {n} correct passwords\")"
   ]
  },
  {
   "cell_type": "code",
   "execution_count": 43,
   "metadata": {},
   "outputs": [],
   "source": [
    "# part 2\n",
    "n = 0\n",
    "with open('day2/input.txt', 'r') as f:\n",
    "    for line in f:\n",
    "        l, h, letter, pwd = re.split('[^A-Za-z0-9]+', line)[:-1]\n",
    "        l, h = int(l), int(h)\n",
    "        \n",
    "        try:\n",
    "            l_letter = pwd[l-1]\n",
    "            h_letter = pwd[h-1]\n",
    "        except IndexError:\n",
    "            continue\n",
    "        \n",
    "        if (l_letter == letter) != (h_letter == letter):\n",
    "            n += 1"
   ]
  },
  {
   "cell_type": "code",
   "execution_count": 44,
   "metadata": {},
   "outputs": [
    {
     "name": "stdout",
     "output_type": "stream",
     "text": [
      "For Part 2 there are 391 correct passwords\n"
     ]
    }
   ],
   "source": [
    "print(f\"For Part 2 there are {n} correct passwords\")"
   ]
  },
  {
   "cell_type": "markdown",
   "metadata": {},
   "source": [
    "# Day 3"
   ]
  },
  {
   "cell_type": "code",
   "execution_count": 54,
   "metadata": {},
   "outputs": [],
   "source": [
    "import numpy as np\n",
    "\n",
    "with open('day3/input.txt', 'r') as f:\n",
    "    arr = f.read().splitlines()"
   ]
  },
  {
   "cell_type": "code",
   "execution_count": 45,
   "metadata": {},
   "outputs": [],
   "source": [
    "def get_trees(arr, right, down):\n",
    "    x = 0; y = 0\n",
    "    xmax = len(arr[0]) \n",
    "    ymax = len(arr) - 1\n",
    "    \n",
    "    n_trees = 0\n",
    "    while True:\n",
    "        x  = (x + right) % xmax\n",
    "        y += down\n",
    "\n",
    "        if y > ymax:\n",
    "            break\n",
    "        if arr[y][x] == \"#\":\n",
    "            n_trees += 1\n",
    "            \n",
    "    return n_trees\n"
   ]
  },
  {
   "cell_type": "code",
   "execution_count": 47,
   "metadata": {},
   "outputs": [
    {
     "name": "stdout",
     "output_type": "stream",
     "text": [
      "Following right 3 and down 1 we hit 193 trees\n"
     ]
    }
   ],
   "source": [
    "right = 3\n",
    "down = 1\n",
    "n_trees = get_trees(arr, right, down)\n",
    "print(f\"Following right {right} and down {down} we hit {n_trees} trees\")"
   ]
  },
  {
   "cell_type": "code",
   "execution_count": 55,
   "metadata": {},
   "outputs": [],
   "source": [
    "slopes = zip([1, 3, 5, 7, 1], [1, 1, 1, 1, 2])\n",
    "trees = [get_trees(arr, x, y) for x, y in slopes]\n",
    "tree_product = np.prod(trees)"
   ]
  },
  {
   "cell_type": "code",
   "execution_count": 58,
   "metadata": {},
   "outputs": [
    {
     "name": "stdout",
     "output_type": "stream",
     "text": [
      "Part two answer: 1355323200\n"
     ]
    }
   ],
   "source": [
    "print(f\"Part two answer: {tree_product}\")"
   ]
  },
  {
   "cell_type": "markdown",
   "metadata": {},
   "source": [
    "# Day 4"
   ]
  },
  {
   "cell_type": "code",
   "execution_count": 16,
   "metadata": {},
   "outputs": [],
   "source": [
    "import re\n",
    "import numpy as np"
   ]
  },
  {
   "cell_type": "code",
   "execution_count": 244,
   "metadata": {},
   "outputs": [],
   "source": [
    "# functions\n",
    "def parse_line(entry):  \n",
    "    # split on whitespace or newlines\n",
    "    full = re.split('[\\s\\n]', entry)\n",
    "    \n",
    "    # remove empty strings\n",
    "    full = [s for s in full if s]\n",
    "    \n",
    "    # break into keys and values\n",
    "    keyvals = np.transpose([x.split(':') for x in full])\n",
    "    keys, values = keyvals[0], keyvals[1]\n",
    "    \n",
    "    # return dict\n",
    "    return dict(zip(keys, values))\n",
    "\n",
    "def has_req_fields(entry):\n",
    "    req_fields = set(['byr', 'iyr', 'eyr', 'hgt', 'hcl', 'ecl', 'pid'])\n",
    "    missing = req_fields - set(entry.keys())\n",
    "    return len(missing) == 0\n",
    "\n",
    "def validate_field(field, value):\n",
    "    # expects field (str) and value (str), return True if valid, False otherwise\n",
    "    if field == 'byr':\n",
    "        if not value.isdigit():\n",
    "            return False\n",
    "        return int(value) in range(1920, 2003)\n",
    "\n",
    "    if field == 'iyr':\n",
    "        if not value.isdigit():\n",
    "            return False\n",
    "        return int(value) in range(2010, 2021)\n",
    "\n",
    "    if field == 'eyr':\n",
    "        if not value.isdigit():\n",
    "            return False\n",
    "        return int(value) in range(2020, 2031)\n",
    "\n",
    "    if field == 'hgt':\n",
    "        if not re.fullmatch('\\d+(cm|in)', value):\n",
    "            return False\n",
    "        digit = int(re.findall('\\d+', value)[0])\n",
    "        unit = re.findall('cm|in', value)[0]\n",
    "        if unit == 'cm':\n",
    "            return digit in range(150, 194)\n",
    "        if unit == 'in':\n",
    "            return digit in range(59, 77)\n",
    "\n",
    "    if field == 'hcl':\n",
    "        return bool(re.fullmatch('#[a-f0-9]{6}', value))\n",
    "\n",
    "    if field == 'ecl':\n",
    "        return value in ['amb', 'blu', 'brn', 'gry', 'grn', 'hzl', 'oth']\n",
    "\n",
    "    if field == 'pid':\n",
    "        return bool(re.fullmatch('\\d{9}', value))\n",
    "    \n",
    "def all_fields_correct(entry):\n",
    "    for field in entry:\n",
    "        # ignore country id field\n",
    "        if field == 'cid':\n",
    "            continue\n",
    "        if not validate_field(field, entry[field]):\n",
    "            return False\n",
    "    return True"
   ]
  },
  {
   "cell_type": "code",
   "execution_count": 245,
   "metadata": {},
   "outputs": [
    {
     "name": "stdout",
     "output_type": "stream",
     "text": [
      "Part 1: 247 valid fields\n"
     ]
    }
   ],
   "source": [
    "# read data\n",
    "with open('day4/input.txt', 'r') as f:\n",
    "    raw = f.read().split('\\n\\n')\n",
    "entries = [parse_line(x) for x in raw]\n",
    "\n",
    "# part 1\n",
    "n_valid = 0\n",
    "for entry in entries:\n",
    "    if has_req_fields(entry):\n",
    "        n_valid += 1\n",
    "\n",
    "print(f\"Part 1: {n_valid} valid fields\")"
   ]
  },
  {
   "cell_type": "code",
   "execution_count": 246,
   "metadata": {},
   "outputs": [
    {
     "name": "stdout",
     "output_type": "stream",
     "text": [
      "Part 2: 145 valid fields\n"
     ]
    }
   ],
   "source": [
    "# part 2\n",
    "n_valid = 0\n",
    "for entry in entries:\n",
    "    if has_req_fields(entry) and all_fields_correct(entry):\n",
    "        n_valid += 1\n",
    "        \n",
    "print(f\"Part 2: {n_valid} valid fields\")"
   ]
  }
 ],
 "metadata": {
  "kernelspec": {
   "display_name": "Python 3",
   "language": "python",
   "name": "python3"
  },
  "language_info": {
   "codemirror_mode": {
    "name": "ipython",
    "version": 3
   },
   "file_extension": ".py",
   "mimetype": "text/x-python",
   "name": "python",
   "nbconvert_exporter": "python",
   "pygments_lexer": "ipython3",
   "version": "3.8.5"
  }
 },
 "nbformat": 4,
 "nbformat_minor": 4
}
