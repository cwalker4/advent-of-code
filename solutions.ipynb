{
 "cells": [
  {
   "cell_type": "markdown",
   "metadata": {},
   "source": [
    "# Day 1"
   ]
  },
  {
   "cell_type": "code",
   "execution_count": 1,
   "metadata": {},
   "outputs": [],
   "source": [
    "with open('day1/input.txt', 'r') as f:\n",
    "    arr = f.read().splitlines()"
   ]
  },
  {
   "cell_type": "code",
   "execution_count": 2,
   "metadata": {},
   "outputs": [],
   "source": [
    "arr = [int(x) for x in arr]\n",
    "\n",
    "def two_sum(arr, x):\n",
    "    arr.sort()\n",
    "    l = 0\n",
    "    h = len(arr) - 1\n",
    "    while l < h:\n",
    "        if arr[l] + arr[h] == x:\n",
    "            return arr[l] * arr[h]\n",
    "        elif arr[l] + arr[h] < x:\n",
    "            l += 1\n",
    "        else:\n",
    "            h -= 1\n",
    "    return -1\n"
   ]
  },
  {
   "cell_type": "code",
   "execution_count": 3,
   "metadata": {},
   "outputs": [],
   "source": [
    "def three_sum(arr, x):\n",
    "    arr.sort()\n",
    "    l = 0\n",
    "    h = len(arr) - 1\n",
    "    for y in arr:\n",
    "        tmp = two_sum(arr, x - y)\n",
    "        if tmp != -1:\n",
    "            return tmp * y"
   ]
  },
  {
   "cell_type": "code",
   "execution_count": 4,
   "metadata": {},
   "outputs": [],
   "source": [
    "two_sum(arr, 2020)"
   ]
  },
  {
   "cell_type": "code",
   "execution_count": 5,
   "metadata": {},
   "outputs": [],
   "source": [
    "three_sum(arr, 2020)"
   ]
  },
  {
   "cell_type": "markdown",
   "metadata": {},
   "source": [
    "# Day 2"
   ]
  },
  {
   "cell_type": "code",
   "execution_count": 6,
   "metadata": {},
   "outputs": [],
   "source": [
    "import re\n",
    "\n",
    "# part 1\n",
    "n = 0\n",
    "with open('day2/input.txt', 'r') as f:\n",
    "    for line in f:\n",
    "        l, h, letter, pwd = re.split('[^A-Za-z0-9]+', line)[:-1]\n",
    "        l, h = int(l), int(h)\n",
    "        \n",
    "        if len(re.findall(letter, pwd)) in range(l, h + 1):\n",
    "            n += 1\n",
    "            \n",
    "print(f\"For Part 1 there are {n} correct passwords\")"
   ]
  },
  {
   "cell_type": "code",
   "execution_count": 7,
   "metadata": {},
   "outputs": [],
   "source": [
    "# part 2\n",
    "n = 0\n",
    "with open('day2/input.txt', 'r') as f:\n",
    "    for line in f:\n",
    "        l, h, letter, pwd = re.split('[^A-Za-z0-9]+', line)[:-1]\n",
    "        l, h = int(l), int(h)\n",
    "        \n",
    "        try:\n",
    "            l_letter = pwd[l-1]\n",
    "            h_letter = pwd[h-1]\n",
    "        except IndexError:\n",
    "            continue\n",
    "        \n",
    "        if (l_letter == letter) != (h_letter == letter):\n",
    "            n += 1"
   ]
  },
  {
   "cell_type": "code",
   "execution_count": 8,
   "metadata": {},
   "outputs": [],
   "source": [
    "print(f\"For Part 2 there are {n} correct passwords\")"
   ]
  },
  {
   "cell_type": "markdown",
   "metadata": {},
   "source": [
    "# Day 3"
   ]
  },
  {
   "cell_type": "code",
   "execution_count": 9,
   "metadata": {},
   "outputs": [],
   "source": [
    "import numpy as np\n",
    "\n",
    "with open('day3/input.txt', 'r') as f:\n",
    "    arr = f.read().splitlines()"
   ]
  },
  {
   "cell_type": "code",
   "execution_count": 10,
   "metadata": {},
   "outputs": [],
   "source": [
    "def get_trees(arr, right, down):\n",
    "    x = 0; y = 0\n",
    "    xmax = len(arr[0]) \n",
    "    ymax = len(arr) - 1\n",
    "    \n",
    "    n_trees = 0\n",
    "    while True:\n",
    "        x  = (x + right) % xmax\n",
    "        y += down\n",
    "\n",
    "        if y > ymax:\n",
    "            break\n",
    "        if arr[y][x] == \"#\":\n",
    "            n_trees += 1\n",
    "            \n",
    "    return n_trees\n"
   ]
  },
  {
   "cell_type": "code",
   "execution_count": 11,
   "metadata": {},
   "outputs": [
    {
     "name": "stdout",
     "output_type": "stream",
     "text": [
      "Following right 3 and down 1 we hit 193 trees\n"
     ]
    }
   ],
   "source": [
    "right = 3\n",
    "down = 1\n",
    "n_trees = get_trees(arr, right, down)\n",
    "print(f\"Following right {right} and down {down} we hit {n_trees} trees\")"
   ]
  },
  {
   "cell_type": "code",
   "execution_count": 12,
   "metadata": {},
   "outputs": [],
   "source": [
    "slopes = zip([1, 3, 5, 7, 1], [1, 1, 1, 1, 2])\n",
    "trees = [get_trees(arr, x, y) for x, y in slopes]\n",
    "tree_product = np.prod(trees)"
   ]
  },
  {
   "cell_type": "code",
   "execution_count": 13,
   "metadata": {},
   "outputs": [
    {
     "name": "stdout",
     "output_type": "stream",
     "text": [
      "Part two answer: 1355323200\n"
     ]
    }
   ],
   "source": [
    "print(f\"Part two answer: {tree_product}\")"
   ]
  },
  {
   "cell_type": "markdown",
   "metadata": {},
   "source": [
    "# Day 4"
   ]
  },
  {
   "cell_type": "code",
   "execution_count": 1,
   "metadata": {},
   "outputs": [],
   "source": [
    "import re\n",
    "import numpy as np"
   ]
  },
  {
   "cell_type": "code",
   "execution_count": 21,
   "metadata": {},
   "outputs": [],
   "source": [
    "# functions\n",
    "def parse_line(entry):  \n",
    "    return {k: v for k, v in re.findall('([a-z]{3}):([^\\s(\\\\n)]+)', entry)}\n",
    "\n",
    "\n",
    "def has_req_fields(entry):\n",
    "    req_fields = set(['byr', 'iyr', 'eyr', 'hgt', 'hcl', 'ecl', 'pid'])\n",
    "    missing = req_fields - set(entry.keys())\n",
    "    return len(missing) == 0\n",
    "\n",
    "\n",
    "def int_in_range(x, low, high):\n",
    "    return x.isdigit() and int(x) >= low and int(x) <= high\n",
    "\n",
    "\n",
    "def validate_field(field, value):\n",
    "    # expects field (str) and value (str), return True if valid, False otherwise\n",
    "    if field == 'byr':\n",
    "        return int_in_range(value, 1920, 2002)\n",
    "\n",
    "    if field == 'iyr':\n",
    "        return int_in_range(value, 2010, 2020)\n",
    "    \n",
    "    if field == 'eyr':\n",
    "        return int_in_range(value, 2020, 2030)\n",
    "\n",
    "    if field == 'hgt':\n",
    "        if not re.fullmatch('\\d+(cm|in)', value):\n",
    "            return False\n",
    "        digit = int(re.findall('\\d+', value)[0])\n",
    "        unit = re.findall('cm|in', value)[0]\n",
    "        if unit == 'cm':\n",
    "            return digit in range(150, 194)\n",
    "        if unit == 'in':\n",
    "            return digit in range(59, 77)\n",
    "\n",
    "    if field == 'hcl':\n",
    "        return bool(re.fullmatch('#[a-f0-9]{6}', value))\n",
    "\n",
    "    if field == 'ecl':\n",
    "        return value in ['amb', 'blu', 'brn', 'gry', 'grn', 'hzl', 'oth']\n",
    "\n",
    "    if field == 'pid':\n",
    "        return bool(re.fullmatch('\\d{9}', value))\n",
    "    \n",
    "def all_fields_correct(entry):\n",
    "    for field in entry:\n",
    "        # ignore country id field\n",
    "        if field == 'cid':\n",
    "            continue\n",
    "        if not validate_field(field, entry[field]):\n",
    "            return False\n",
    "    return True"
   ]
  },
  {
   "cell_type": "code",
   "execution_count": 22,
   "metadata": {},
   "outputs": [
    {
     "name": "stdout",
     "output_type": "stream",
     "text": [
      "Part 1: 247 valid fields\n"
     ]
    }
   ],
   "source": [
    "# read data\n",
    "with open('day4/input.txt', 'r') as f:\n",
    "    raw = f.read().split('\\n\\n')\n",
    "entries = [parse_line(x) for x in raw]\n",
    "\n",
    "# part 1\n",
    "n_valid = 0\n",
    "for entry in entries:\n",
    "    if has_req_fields(entry):\n",
    "        n_valid += 1\n",
    "\n",
    "print(f\"Part 1: {n_valid} valid fields\")"
   ]
  },
  {
   "cell_type": "code",
   "execution_count": 23,
   "metadata": {},
   "outputs": [
    {
     "name": "stdout",
     "output_type": "stream",
     "text": [
      "Part 2: 145 valid fields\n"
     ]
    }
   ],
   "source": [
    "# part 2\n",
    "n_valid = 0\n",
    "for entry in entries:\n",
    "    if has_req_fields(entry) and all_fields_correct(entry):\n",
    "        n_valid += 1\n",
    "        \n",
    "print(f\"Part 2: {n_valid} valid fields\")"
   ]
  },
  {
   "cell_type": "markdown",
   "metadata": {},
   "source": [
    "# Day 5"
   ]
  },
  {
   "cell_type": "code",
   "execution_count": 74,
   "metadata": {},
   "outputs": [],
   "source": [
    "from math import floor, ceil\n",
    "import numpy as np\n",
    "\n",
    "with open('day5/input.txt', 'r') as f:\n",
    "    arr = f.read().splitlines()"
   ]
  },
  {
   "cell_type": "code",
   "execution_count": 104,
   "metadata": {},
   "outputs": [],
   "source": [
    "def get_pos(s, nmax):\n",
    "    # takes s (str) the binary partition string, and nmax (int) the max number of seats\n",
    "    low = 0\n",
    "    high = nmax - 1\n",
    "    for i in s:\n",
    "        if i in ('F', 'L'):\n",
    "            high = floor((low + high) / 2)\n",
    "        elif i in ('B', 'R'):\n",
    "            low = ceil((low + high) / 2)\n",
    "    return low\n",
    "\n",
    "def get_seatid(row, col):\n",
    "    return (row * 8) + col"
   ]
  },
  {
   "cell_type": "code",
   "execution_count": 105,
   "metadata": {},
   "outputs": [],
   "source": [
    "row_max = 128\n",
    "col_max = 8\n",
    "seatids = []\n",
    "filled_seats = np.full((row_max, col_max), 0)\n",
    "\n",
    "# part 1\n",
    "for seat in arr:\n",
    "    # get the row and column\n",
    "    row, col = get_pos(seat[:7], row_max), get_pos(seat[-3:], col_max)\n",
    "    \n",
    "    # update arrays\n",
    "    filled_seats[row, col] = 1\n",
    "    seatids.append(get_seatid(row, col))"
   ]
  },
  {
   "cell_type": "code",
   "execution_count": 106,
   "metadata": {},
   "outputs": [
    {
     "name": "stdout",
     "output_type": "stream",
     "text": [
      "Max seat ID: 801\n"
     ]
    }
   ],
   "source": [
    "print(f\"Max seat ID: {max(seatids)}\")"
   ]
  },
  {
   "cell_type": "code",
   "execution_count": 112,
   "metadata": {},
   "outputs": [
    {
     "name": "stdout",
     "output_type": "stream",
     "text": [
      "My seat: (74, 5), seatid = 597\n"
     ]
    }
   ],
   "source": [
    "# part 2\n",
    "for row, col in np.argwhere(filled_seats == 0):\n",
    "    seatid = get_seatid(row, col)\n",
    "    if seatid - 1 in seatids and seatid + 1 in seatids:\n",
    "        break\n",
    "        \n",
    "print(f\"My seat: ({row}, {col}), seatid = {get_seatid(row, col)}\")"
   ]
  },
  {
   "cell_type": "markdown",
   "metadata": {},
   "source": [
    "# Day 6"
   ]
  },
  {
   "cell_type": "code",
   "execution_count": 8,
   "metadata": {},
   "outputs": [],
   "source": [
    "import re\n",
    "\n",
    "with open('day6/input.txt', 'r') as f:\n",
    "    arr = f.read().split('\\n\\n')"
   ]
  },
  {
   "cell_type": "code",
   "execution_count": 39,
   "metadata": {},
   "outputs": [
    {
     "name": "stdout",
     "output_type": "stream",
     "text": [
      "Part 1: 6565\n"
     ]
    }
   ],
   "source": [
    "n_yes = 0\n",
    "for group in arr:\n",
    "    letters = set(re.findall('[a-z]', group))\n",
    "    n_yes += len(letters)\n",
    "\n",
    "print(f\"Part 1: {n_yes}\")"
   ]
  },
  {
   "cell_type": "code",
   "execution_count": 68,
   "metadata": {},
   "outputs": [],
   "source": [
    "n_yes = 0\n",
    "for group in arr:\n",
    "    answers = [set(x) for x in group.rstrip().split('\\n')]\n",
    "    common = set.intersection(*answers)\n",
    "    n_yes += len(common)"
   ]
  },
  {
   "cell_type": "code",
   "execution_count": 69,
   "metadata": {},
   "outputs": [
    {
     "name": "stdout",
     "output_type": "stream",
     "text": [
      "Part 2: 3137\n"
     ]
    }
   ],
   "source": [
    "print(f\"Part 2: {n_yes}\")"
   ]
  },
  {
   "cell_type": "code",
   "execution_count": null,
   "metadata": {},
   "outputs": [],
   "source": []
  }
 ],
 "metadata": {
  "kernelspec": {
   "display_name": "Python 3",
   "language": "python",
   "name": "python3"
  },
  "language_info": {
   "codemirror_mode": {
    "name": "ipython",
    "version": 3
   },
   "file_extension": ".py",
   "mimetype": "text/x-python",
   "name": "python",
   "nbconvert_exporter": "python",
   "pygments_lexer": "ipython3",
   "version": "3.8.5"
  }
 },
 "nbformat": 4,
 "nbformat_minor": 4
}
